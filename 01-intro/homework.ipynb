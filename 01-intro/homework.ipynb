{
 "cells": [
  {
   "cell_type": "code",
   "execution_count": 1,
   "id": "f5c920ff-7c9a-4058-addb-42d4abac8ef4",
   "metadata": {},
   "outputs": [],
   "source": [
    "import pandas as pd"
   ]
  },
  {
   "cell_type": "code",
   "execution_count": 36,
   "id": "49b9e598-71d3-4e41-9683-c3ca78feee46",
   "metadata": {},
   "outputs": [],
   "source": [
    "df = pd.read_csv('https://raw.githubusercontent.com/alexeygrigorev/datasets/master/laptops.csv')"
   ]
  },
  {
   "cell_type": "code",
   "execution_count": 37,
   "id": "2c7139d7-bbce-4efc-9ea7-efabb04882b1",
   "metadata": {},
   "outputs": [
    {
     "data": {
      "text/html": [
       "<div>\n",
       "<style scoped>\n",
       "    .dataframe tbody tr th:only-of-type {\n",
       "        vertical-align: middle;\n",
       "    }\n",
       "\n",
       "    .dataframe tbody tr th {\n",
       "        vertical-align: top;\n",
       "    }\n",
       "\n",
       "    .dataframe thead th {\n",
       "        text-align: right;\n",
       "    }\n",
       "</style>\n",
       "<table border=\"1\" class=\"dataframe\">\n",
       "  <thead>\n",
       "    <tr style=\"text-align: right;\">\n",
       "      <th></th>\n",
       "      <th>Laptop</th>\n",
       "      <th>Status</th>\n",
       "      <th>Brand</th>\n",
       "      <th>Model</th>\n",
       "      <th>CPU</th>\n",
       "      <th>RAM</th>\n",
       "      <th>Storage</th>\n",
       "      <th>Storage type</th>\n",
       "      <th>GPU</th>\n",
       "      <th>Screen</th>\n",
       "      <th>Touch</th>\n",
       "      <th>Final Price</th>\n",
       "    </tr>\n",
       "  </thead>\n",
       "  <tbody>\n",
       "    <tr>\n",
       "      <th>0</th>\n",
       "      <td>ASUS ExpertBook B1 B1502CBA-EJ0436X Intel Core...</td>\n",
       "      <td>New</td>\n",
       "      <td>Asus</td>\n",
       "      <td>ExpertBook</td>\n",
       "      <td>Intel Core i5</td>\n",
       "      <td>8</td>\n",
       "      <td>512</td>\n",
       "      <td>SSD</td>\n",
       "      <td>NaN</td>\n",
       "      <td>15.6</td>\n",
       "      <td>No</td>\n",
       "      <td>1009.00</td>\n",
       "    </tr>\n",
       "    <tr>\n",
       "      <th>1</th>\n",
       "      <td>Alurin Go Start Intel Celeron N4020/8GB/256GB ...</td>\n",
       "      <td>New</td>\n",
       "      <td>Alurin</td>\n",
       "      <td>Go</td>\n",
       "      <td>Intel Celeron</td>\n",
       "      <td>8</td>\n",
       "      <td>256</td>\n",
       "      <td>SSD</td>\n",
       "      <td>NaN</td>\n",
       "      <td>15.6</td>\n",
       "      <td>No</td>\n",
       "      <td>299.00</td>\n",
       "    </tr>\n",
       "    <tr>\n",
       "      <th>2</th>\n",
       "      <td>ASUS ExpertBook B1 B1502CBA-EJ0424X Intel Core...</td>\n",
       "      <td>New</td>\n",
       "      <td>Asus</td>\n",
       "      <td>ExpertBook</td>\n",
       "      <td>Intel Core i3</td>\n",
       "      <td>8</td>\n",
       "      <td>256</td>\n",
       "      <td>SSD</td>\n",
       "      <td>NaN</td>\n",
       "      <td>15.6</td>\n",
       "      <td>No</td>\n",
       "      <td>789.00</td>\n",
       "    </tr>\n",
       "    <tr>\n",
       "      <th>3</th>\n",
       "      <td>MSI Katana GF66 12UC-082XES Intel Core i7-1270...</td>\n",
       "      <td>New</td>\n",
       "      <td>MSI</td>\n",
       "      <td>Katana</td>\n",
       "      <td>Intel Core i7</td>\n",
       "      <td>16</td>\n",
       "      <td>1000</td>\n",
       "      <td>SSD</td>\n",
       "      <td>RTX 3050</td>\n",
       "      <td>15.6</td>\n",
       "      <td>No</td>\n",
       "      <td>1199.00</td>\n",
       "    </tr>\n",
       "    <tr>\n",
       "      <th>4</th>\n",
       "      <td>HP 15S-FQ5085NS Intel Core i5-1235U/16GB/512GB...</td>\n",
       "      <td>New</td>\n",
       "      <td>HP</td>\n",
       "      <td>15S</td>\n",
       "      <td>Intel Core i5</td>\n",
       "      <td>16</td>\n",
       "      <td>512</td>\n",
       "      <td>SSD</td>\n",
       "      <td>NaN</td>\n",
       "      <td>15.6</td>\n",
       "      <td>No</td>\n",
       "      <td>669.01</td>\n",
       "    </tr>\n",
       "    <tr>\n",
       "      <th>5</th>\n",
       "      <td>MSI Crosshair 17 C12VF-264XES Intel Core i7-12...</td>\n",
       "      <td>New</td>\n",
       "      <td>MSI</td>\n",
       "      <td>Crosshair</td>\n",
       "      <td>Intel Core i7</td>\n",
       "      <td>32</td>\n",
       "      <td>1000</td>\n",
       "      <td>SSD</td>\n",
       "      <td>RTX 4060</td>\n",
       "      <td>17.3</td>\n",
       "      <td>No</td>\n",
       "      <td>1699.00</td>\n",
       "    </tr>\n",
       "    <tr>\n",
       "      <th>6</th>\n",
       "      <td>Lenovo Thinkpad E14 Gen 4 AMD Ryzen 5 5625U/8G...</td>\n",
       "      <td>New</td>\n",
       "      <td>Lenovo</td>\n",
       "      <td>ThinkPad</td>\n",
       "      <td>AMD Ryzen 5</td>\n",
       "      <td>8</td>\n",
       "      <td>256</td>\n",
       "      <td>SSD</td>\n",
       "      <td>NaN</td>\n",
       "      <td>14.0</td>\n",
       "      <td>No</td>\n",
       "      <td>909.00</td>\n",
       "    </tr>\n",
       "    <tr>\n",
       "      <th>7</th>\n",
       "      <td>ASUS VivoBook 15 F515JA-EJ2882W Intel Core i7-...</td>\n",
       "      <td>New</td>\n",
       "      <td>Asus</td>\n",
       "      <td>VivoBook</td>\n",
       "      <td>Intel Core i7</td>\n",
       "      <td>8</td>\n",
       "      <td>512</td>\n",
       "      <td>SSD</td>\n",
       "      <td>NaN</td>\n",
       "      <td>15.6</td>\n",
       "      <td>No</td>\n",
       "      <td>809.01</td>\n",
       "    </tr>\n",
       "  </tbody>\n",
       "</table>\n",
       "</div>"
      ],
      "text/plain": [
       "                                              Laptop Status   Brand  \\\n",
       "0  ASUS ExpertBook B1 B1502CBA-EJ0436X Intel Core...    New    Asus   \n",
       "1  Alurin Go Start Intel Celeron N4020/8GB/256GB ...    New  Alurin   \n",
       "2  ASUS ExpertBook B1 B1502CBA-EJ0424X Intel Core...    New    Asus   \n",
       "3  MSI Katana GF66 12UC-082XES Intel Core i7-1270...    New     MSI   \n",
       "4  HP 15S-FQ5085NS Intel Core i5-1235U/16GB/512GB...    New      HP   \n",
       "5  MSI Crosshair 17 C12VF-264XES Intel Core i7-12...    New     MSI   \n",
       "6  Lenovo Thinkpad E14 Gen 4 AMD Ryzen 5 5625U/8G...    New  Lenovo   \n",
       "7  ASUS VivoBook 15 F515JA-EJ2882W Intel Core i7-...    New    Asus   \n",
       "\n",
       "        Model            CPU  RAM  Storage Storage type       GPU  Screen  \\\n",
       "0  ExpertBook  Intel Core i5    8      512          SSD       NaN    15.6   \n",
       "1          Go  Intel Celeron    8      256          SSD       NaN    15.6   \n",
       "2  ExpertBook  Intel Core i3    8      256          SSD       NaN    15.6   \n",
       "3      Katana  Intel Core i7   16     1000          SSD  RTX 3050    15.6   \n",
       "4         15S  Intel Core i5   16      512          SSD       NaN    15.6   \n",
       "5   Crosshair  Intel Core i7   32     1000          SSD  RTX 4060    17.3   \n",
       "6    ThinkPad    AMD Ryzen 5    8      256          SSD       NaN    14.0   \n",
       "7    VivoBook  Intel Core i7    8      512          SSD       NaN    15.6   \n",
       "\n",
       "  Touch  Final Price  \n",
       "0    No      1009.00  \n",
       "1    No       299.00  \n",
       "2    No       789.00  \n",
       "3    No      1199.00  \n",
       "4    No       669.01  \n",
       "5    No      1699.00  \n",
       "6    No       909.00  \n",
       "7    No       809.01  "
      ]
     },
     "execution_count": 37,
     "metadata": {},
     "output_type": "execute_result"
    }
   ],
   "source": [
    "df.head(8)"
   ]
  },
  {
   "cell_type": "code",
   "execution_count": 38,
   "id": "da2f98fa-25b5-4f17-8970-57eca306a642",
   "metadata": {},
   "outputs": [
    {
     "data": {
      "text/plain": [
       "27"
      ]
     },
     "execution_count": 38,
     "metadata": {},
     "output_type": "execute_result"
    }
   ],
   "source": [
    "df['Brand'].nunique()"
   ]
  },
  {
   "cell_type": "code",
   "execution_count": 39,
   "id": "139b9832-828d-4f4c-8b11-ff8ca6e95f3e",
   "metadata": {},
   "outputs": [
    {
     "name": "stdout",
     "output_type": "stream",
     "text": [
      "2160\n"
     ]
    }
   ],
   "source": [
    "total_records = len(df)\n",
    "print(total_records)\n"
   ]
  },
  {
   "cell_type": "code",
   "execution_count": 40,
   "id": "f0bedf21-1d9c-4a69-9e44-7d596ac3ba03",
   "metadata": {},
   "outputs": [
    {
     "name": "stdout",
     "output_type": "stream",
     "text": [
      "3\n"
     ]
    }
   ],
   "source": [
    "missing_columns = df.isnull().any().sum()\n",
    "print(missing_columns)\n"
   ]
  },
  {
   "cell_type": "code",
   "execution_count": 41,
   "id": "adb0c926-ea4f-42a5-a3a2-e422fa700b50",
   "metadata": {},
   "outputs": [
    {
     "name": "stdout",
     "output_type": "stream",
     "text": [
      "15.6\n"
     ]
    }
   ],
   "source": [
    "median_screen = df['Screen'].median()\n",
    "print(median_screen)\n"
   ]
  },
  {
   "cell_type": "code",
   "execution_count": 42,
   "id": "d6280541-c706-4e45-9985-7cea2e89a6d7",
   "metadata": {},
   "outputs": [
    {
     "name": "stdout",
     "output_type": "stream",
     "text": [
      "15.6\n"
     ]
    }
   ],
   "source": [
    "most_frequent = df['Screen'].mode()[0]\n",
    "print(most_frequent)"
   ]
  },
  {
   "cell_type": "code",
   "execution_count": 44,
   "id": "e813fb30-f783-4f52-abf1-465ea11633d5",
   "metadata": {},
   "outputs": [],
   "source": [
    "df['Screen'] = df['Screen'].fillna(most_frequent)"
   ]
  },
  {
   "cell_type": "code",
   "execution_count": 45,
   "id": "6b3e1f9a-0856-433b-868a-1cd53772897d",
   "metadata": {},
   "outputs": [
    {
     "name": "stdout",
     "output_type": "stream",
     "text": [
      "0    15.6\n",
      "Name: Screen, dtype: float64\n"
     ]
    }
   ],
   "source": [
    "most_frequent = df['Screen'].mode()\n",
    "print(most_frequent)"
   ]
  },
  {
   "cell_type": "code",
   "execution_count": 47,
   "id": "0a5d572e-b2c2-4aad-b9ac-57ce05dbba40",
   "metadata": {},
   "outputs": [
    {
     "name": "stdout",
     "output_type": "stream",
     "text": [
      "                                                 Laptop Status   Brand Model  \\\n",
      "1478  InnJoo Voom Excellence Intel Celeron N4020/8GB...    New  Innjoo  Voom   \n",
      "1479  InnJoo Voom Excellence Pro Intel Celeron N4020...    New  Innjoo  Voom   \n",
      "1480  Innjoo Voom Intel Celeron N3350/4GB/64GB eMMC/...    New  Innjoo  Voom   \n",
      "1481  Innjoo Voom Laptop Max Intel Celeron N3350/6GB...    New  Innjoo  Voom   \n",
      "1482  Innjoo Voom Laptop Pro Intel Celeron N3350/6GB...    New  Innjoo  Voom   \n",
      "1483  Innjoo Voom Pro Intel Celeron N3350/6GB/128GB ...    New  Innjoo  Voom   \n",
      "\n",
      "                CPU  RAM  Storage Storage type  GPU  Screen Touch  Final Price  \n",
      "1478  Intel Celeron    8      256          SSD  NaN    15.6    No       311.37  \n",
      "1479  Intel Celeron    8      512          SSD  NaN    15.6    No       392.55  \n",
      "1480  Intel Celeron    4       64         eMMC  NaN    14.1    No       251.40  \n",
      "1481  Intel Celeron    6       64         eMMC  NaN    14.1    No       383.61  \n",
      "1482  Intel Celeron    6      128          SSD  NaN    14.1    No       317.02  \n",
      "1483  Intel Celeron    6      128         eMMC  NaN    14.1    No       431.38  \n"
     ]
    }
   ],
   "source": [
    "innjoo_laptops = df[df['Brand'] == 'Innjoo']\n",
    "print(innjoo_laptops)"
   ]
  },
  {
   "cell_type": "code",
   "execution_count": 48,
   "id": "e7dda7b4-8f78-48a1-8596-a88412e5a0ce",
   "metadata": {},
   "outputs": [
    {
     "name": "stdout",
     "output_type": "stream",
     "text": [
      "      RAM  Storage  Screen\n",
      "0       8      512    15.6\n",
      "1       8      256    15.6\n",
      "2       8      256    15.6\n",
      "3      16     1000    15.6\n",
      "4      16      512    15.6\n",
      "...   ...      ...     ...\n",
      "2155   16     1000    17.3\n",
      "2156   16     1000    17.3\n",
      "2157   32     1000    17.3\n",
      "2158   16     1000    13.4\n",
      "2159   16      256    13.4\n",
      "\n",
      "[2160 rows x 3 columns]\n"
     ]
    }
   ],
   "source": [
    "selected_columns = df[['RAM', 'Storage', 'Screen']]\n",
    "print(selected_columns)"
   ]
  },
  {
   "cell_type": "code",
   "execution_count": 49,
   "id": "59f57161-6c46-4c3a-b0b6-28beac8bb7b9",
   "metadata": {},
   "outputs": [
    {
     "name": "stdout",
     "output_type": "stream",
     "text": [
      "[[   8.   512.    15.6]\n",
      " [   8.   256.    15.6]\n",
      " [   8.   256.    15.6]\n",
      " ...\n",
      " [  32.  1000.    17.3]\n",
      " [  16.  1000.    13.4]\n",
      " [  16.   256.    13.4]]\n"
     ]
    }
   ],
   "source": [
    "X = df[['RAM', 'Storage', 'Screen']].values\n",
    "print(X)"
   ]
  },
  {
   "cell_type": "code",
   "execution_count": 50,
   "id": "28bd171b-2596-4172-9d29-e6462e9e7b89",
   "metadata": {},
   "outputs": [
    {
     "ename": "NameError",
     "evalue": "name 'np' is not defined",
     "output_type": "error",
     "traceback": [
      "\u001b[31m---------------------------------------------------------------------------\u001b[39m",
      "\u001b[31mNameError\u001b[39m                                 Traceback (most recent call last)",
      "\u001b[36mCell\u001b[39m\u001b[36m \u001b[39m\u001b[32mIn[50]\u001b[39m\u001b[32m, line 1\u001b[39m\n\u001b[32m----> \u001b[39m\u001b[32m1\u001b[39m \u001b[43mnp\u001b[49m.arrange(\u001b[32m10\u001b[39m)\n",
      "\u001b[31mNameError\u001b[39m: name 'np' is not defined"
     ]
    }
   ],
   "source": [
    "np.arrange(10)"
   ]
  },
  {
   "cell_type": "code",
   "execution_count": null,
   "id": "23c2efd4-b59f-43fb-b57e-4d05bcd40174",
   "metadata": {},
   "outputs": [],
   "source": []
  }
 ],
 "metadata": {
  "kernelspec": {
   "display_name": "Python 3 (ipykernel)",
   "language": "python",
   "name": "python3"
  },
  "language_info": {
   "codemirror_mode": {
    "name": "ipython",
    "version": 3
   },
   "file_extension": ".py",
   "mimetype": "text/x-python",
   "name": "python",
   "nbconvert_exporter": "python",
   "pygments_lexer": "ipython3",
   "version": "3.11.13"
  }
 },
 "nbformat": 4,
 "nbformat_minor": 5
}
